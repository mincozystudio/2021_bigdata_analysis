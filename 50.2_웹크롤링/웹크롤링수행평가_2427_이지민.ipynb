{
 "cells": [
  {
   "cell_type": "markdown",
   "metadata": {},
   "source": [
    "# 웹크롤링 수행평가 1 (2427 이지민)"
   ]
  },
  {
   "cell_type": "markdown",
   "metadata": {},
   "source": [
    "* 주제 : NAVER 책 크롤링하기\n",
    "* 베스트셀러 크롤링하기"
   ]
  },
  {
   "cell_type": "code",
   "execution_count": 2,
   "metadata": {},
   "outputs": [],
   "source": [
    "import requests\n",
    "from bs4 import BeautifulSoup\n",
    "import pandas as pd"
   ]
  },
  {
   "cell_type": "markdown",
   "metadata": {},
   "source": [
    "## NAVER 책 크롤링하기 - 베스트셀러의 제목, 저자"
   ]
  },
  {
   "cell_type": "code",
   "execution_count": 3,
   "metadata": {},
   "outputs": [
    {
     "data": {
      "text/plain": [
       "<Response [200]>"
      ]
     },
     "execution_count": 3,
     "metadata": {},
     "output_type": "execute_result"
    }
   ],
   "source": [
    "url = 'https://book.naver.com/bestsell/bestseller_list.nhn'\n",
    "\n",
    "headers = {\n",
    "    'user-agent' : 'Mozilla/5.0 (Windows NT 10.0; Win64; x64) AppleWebKit/537.36 (KHTML, like Gecko) Chrome/93.0.4577.63 Safari/537.36',\n",
    "    \"accept\": \"text/html,application/xhtml+xml,application/xml;q=0.9,image/avif,image/webp,image/apng,*/*;q=0.8,application/signed-exchange;v=b3;q=0.9\",\n",
    "    \"accept-language\": \"ko-KR,ko;q=0.9,en-US;q=0.8,en;q=0.7\",\n",
    "    \"cache-control\": \"max-age=0\",\n",
    "    \"sec-ch-ua\": \"\\\"Google Chrome\\\";v=\\\"93\\\", \\\" Not;A Brand\\\";v=\\\"99\\\", \\\"Chromium\\\";v=\\\"93\\\"\",\n",
    "    \"sec-ch-ua-mobile\": \"?0\",\n",
    "    \"sec-ch-ua-platform\": \"\\\"Windows\\\"\",\n",
    "    \"sec-fetch-dest\": \"document\",\n",
    "    \"sec-fetch-mode\": \"navigate\",\n",
    "    \"sec-fetch-site\": \"same-origin\",\n",
    "    \"sec-fetch-user\": \"?1\",\n",
    "    \"upgrade-insecure-requests\": \"1\"\n",
    "}\n",
    "\n",
    "res = requests.get(url, headers=headers)\n",
    "res"
   ]
  },
  {
   "cell_type": "code",
   "execution_count": 4,
   "metadata": {},
   "outputs": [
    {
     "data": {
      "text/plain": [
       "'<!DOCTYPE HTML>\\r\\n<html lang=\"ko\">\\r\\n<head>\\r\\n<meta http-equiv=\"Content-Type\" content=\"text/html; charset=utf-8\" />\\r\\n<meta http-equiv=\"X-UA-Compatible\" content=\"IE=edge\" />\\r\\n<title>\\r\\n종합, YES24, 베스트셀러 : 네이버 책</title>\\r\\n<meta property=\"og:type\" content=\"article\"/>\\r\\n<meta property=\"og:title\" content=\"네이버 책'"
      ]
     },
     "execution_count": 4,
     "metadata": {},
     "output_type": "execute_result"
    }
   ],
   "source": [
    "res.text[:300]"
   ]
  },
  {
   "cell_type": "code",
   "execution_count": 5,
   "metadata": {},
   "outputs": [],
   "source": [
    "soup = BeautifulSoup(res.text)"
   ]
  },
  {
   "cell_type": "code",
   "execution_count": 6,
   "metadata": {},
   "outputs": [
    {
     "data": {
      "text/plain": [
       "'<!DOCTYPE HTML PUBLIC \"-//W3C//DTD HTML 4.01 Transitional//EN\" \"http://www.w3.org/TR/html4/loose.dtd\">\\r\\n<html>\\r\\n<head>\\r\\n<meta http-equiv=\"Content-Type\" content=\"text/html; charset=utf-8\">\\r\\n<meta name=\"decorator\" content=\"no_decorator\" />\\r\\n<title>요청하신 페이지를 찾을 수 없습니다. : 네이버</title>\\r\\n<style type=\"text/css\">\\r\\nbody {margin:0; padding:0; font-size:12px; font-family:\"나눔고딕\", \"NanumGothic\", \"굴림\", Gulim, AppleGothic, Sans-serif; text-align:center; line-height:14px;}\\r\\nimg, fieldset {border:none;}\\r\\nlegend {display:none;}\\r\\nform {margin:0;}\\r\\nfieldset {padding:0;}\\r\\nimg {vertical-align:top;}\\r\\nul, ol, p, h1, h2, h3, h4, h5, h6  {margin:0; padding:0; font-size:12px;}\\r\\nli {margin:0; list-style:none; line-height:14px;}\\r\\nem { font-style:normal;}\\r\\na {color:#666; text-decoration:none;}\\r\\na:hover, a:active, a:focus {text-decoration:underline;}\\r\\n#wrap {width:564px; margin:99px auto 0 auto; text-align:left;}\\r\\n#header {width:564px; padding-bottom:5px; overflow:hidden;}\\r\\n#header h1 {float:left; font-size:0;}\\r\\n#header h1 a {display:block;margin:0 0 -1px -1px}\\r\\n#header h2 {float:left; font-size:0;}\\r\\n#header h2 a {display:block; padding:3px;}\\r\\n#header .list_type {float:right; margin-top:6px;}\\r\\n#header .list_type li {float:left; margin-left:7px; padding-left:7px; font-size:11px; background:url(https://ssl.pstatic.net/static/common/error/090316/bu_arr.gif) left 2px no-repeat; line-height:15px; *line-height:14px; _line-height:16px;}\\r\\n#header .list_type li a {color:#444; font-family:\"돋움\", dotum, \"굴림\", Gulim, AppleGothic, Sans-serif; letter-spacing:-1px;}\\r\\n#header .list_type li.first {background:none;}\\r\\n#content {margin-left:4px; padding:55px 0 70px 1px;  border-top:3px solid #666; background:url(https://ssl.pstatic.net/static/common/error/090316/bg_thumb2.gif) 383px 85px no-repeat;}\\r\\n#content .desc {margin-bottom:17px;}\\r\\n#content .desc2 {color:#333; line-height:18px; letter-spacing:-1px;}\\r\\n#content .desc3 {margin:8px 0 30px 0;}\\r\\n#content .desc3 a {margin-right:4px; color:#ea2b2c; text-decoration:underline;}\\r\\n#content .search_area {width:169px; *width:167px; _width /**/:170px; padding:3px 0 3px 1px; *padding:2px 0 1px 3px; background:#3eaf0e;}\\r\\n#content .box_sch {position:relative; width:135px; _width /**/:143px; height:14px; *height:13px; _height /**/:17px; border:1px solid #fff; padding:1px 0 0 6px; *padding:2px 0 0 6px; color:#333; font:bold 12px 돋움, Dotum, AppleGothic, sans-serif;}\\r\\n#content .btn_sch{position:relative; margin:0 0 0 -2px; *margin:1px 0 0 -2px; vertical-align:top;}\\r\\n#footer {width:560px; margin-left:4px; padding-top:17px; border-top:1px solid #e1e1e1; text-align:center;}\\r\\n#footer address {color:#444; font-family:verdana; font-size:9px; font-style:normal;}\\r\\n#footer address a{color:#444; font-weight:bold;}\\r\\n#footer address a:hover{color:#2db400}\\r\\n</style>\\r\\n</head>\\r\\n<body>\\r\\n<div id=\"wrap\">\\r\\n\\t<div id=\"header\">\\r\\n\\t\\t<h1><a href=\"http://naver.com/\"><img src=\"https://ssl.pstatic.net/static/header/h1/bi_naver.gif\" width=\"85\" height=\"25\" alt=\"NAVER\" title=\"NAVER\"></a></h1>\\r\\n\\t\\t<ul class=\"list_type\">\\r\\n\\t\\t<li class=\"first\"><a href=\"http://naver.com/\">네이버</a></li>\\r\\n\\t\\t<li><a href=\"http://help.naver.com/\">고객센터</a></li>\\r\\n\\t\\t<li><a href=\"http://help.naver.com/query/exMailQuestion_query_select.jsp\">장애신고</a></li>\\r\\n\\t\\t</ul>\\r\\n\\t</div>\\r\\n\\t<div id=\"container\">\\r\\n\\t\\t<div id=\"content\">\\r\\n\\t\\t\\t<p class=\"desc\"><img src=\"https://ssl.pstatic.net/static/common/error/090316/txt_desc3.gif\" width=\"361\" height=\"24\" alt=\"요청하신 페이지를 찾을 수 없습니다\" title=\"요청하신 페이지를 찾을 수 없습니다\"></p>\\r\\n\\t\\t\\t<p class=\"desc2\">동시에 접속하는 이용자 수가 많거나 인터넷 네트워크 상태가 불안정하여<br>\\r\\n\\t\\t\\t\\t현재 웹페이지의 접속이 불가합니다.  잠시 후 다시 접속해 주시기 바랍니다.\\r\\n\\t\\t\\t</p>\\r\\n\\t\\t\\t<p class=\"desc3\"><a href=\"javascript:history.go(-1);\">이전페이지</a> <a href=\"https://book.naver.com\">책 홈 바로가기</a></p>\\r\\n\\t\\t\\t<div class=\"search_area\">\\r\\n\\t\\t\\t\\t<form class=\"sch\" name=\"search\" action=\"http://search.naver.com/search.naver\" method=\"get\">\\r\\n\\t\\t\\t\\t\\t<fieldset>\\r\\n\\t\\t\\t\\t\\t<legend>검색</legend>\\r\\n\\t\\t\\t\\t\\t<input type=\"text\" title=\"검색\" id=\"query\" name=\"query\" value=\"\" class=\"box_sch\" accesskey=\"s\">\\r\\n\\t\\t\\t\\t\\t<input type=\"image\" src=\"https://ssl.pstatic.net/static/common/error/090316/btn_search.gif\" alt=\"검색\" title=\"검색\" class=\"btn_sch\">\\r\\n\\t\\t\\t\\t\\t</fieldset>\\r\\n\\t\\t\\t\\t</form>\\r\\n\\t\\t\\t</div>\\r\\n\\t\\t</div>\\r\\n\\t</div>\\r\\n\\t<div id=\"footer\">\\r\\n\\t<address>Copyright &copy; <a href=\"http://www.navercorp.com\">NAVER Corp</a>.  All Rights Reserved.</address>\\r\\n\\t</div>\\r\\n</div>\\r\\n</body>\\r\\n</html>\\r\\n'"
      ]
     },
     "execution_count": 6,
     "metadata": {},
     "output_type": "execute_result"
    }
   ],
   "source": [
    "html = requests.get(url).text\n",
    "html\n",
    "#soup = BeautifulSoup(html, 'html.parser')\n",
    "#soup"
   ]
  },
  {
   "cell_type": "markdown",
   "metadata": {},
   "source": [
    "### 1. 우선 제목을 가져오겠습니다"
   ]
  },
  {
   "cell_type": "markdown",
   "metadata": {},
   "source": [
    "* soup.select 확인"
   ]
  },
  {
   "cell_type": "code",
   "execution_count": null,
   "metadata": {},
   "outputs": [],
   "source": [
    "book1 = soup.select('ol.basic') \n",
    "book1"
   ]
  },
  {
   "cell_type": "code",
   "execution_count": 8,
   "metadata": {},
   "outputs": [
    {
     "data": {
      "text/plain": [
       "[<a class=\"N=a:bel.title\" href=\"http://book.naver.com/bookdb/book_detail.nhn?bid=20777131\" target=\"_blank\">달러구트 꿈 백화점 2</a>,\n",
       " <a class=\"N=a:bel.title\" href=\"http://book.naver.com/bookdb/book_detail.nhn?bid=16405427\" target=\"_blank\">달러구트 꿈 백화점 1</a>,\n",
       " <a class=\"N=a:bel.title\" href=\"http://book.naver.com/bookdb/book_detail.nhn?bid=20883676\" target=\"_blank\">작별하지 않는다</a>,\n",
       " <a class=\"N=a:bel.title\" href=\"http://book.naver.com/bookdb/book_detail.nhn?bid=20657805\" target=\"_blank\">오늘 밤, 세계에서 이 사랑이 사라진다 해도</a>,\n",
       " <a class=\"N=a:bel.title\" href=\"http://book.naver.com/bookdb/book_detail.nhn?bid=20905347\" target=\"_blank\">인생은 실전이다</a>,\n",
       " <a class=\"N=a:bel.title\" href=\"http://book.naver.com/bookdb/book_detail.nhn?bid=20788665\" target=\"_blank\">4~7세보다 중요한 시기는 없습니다</a>,\n",
       " <a class=\"N=a:bel.title\" href=\"http://book.naver.com/bookdb/book_detail.nhn?bid=20861804\" target=\"_blank\">양순이네 떡집</a>,\n",
       " <a class=\"N=a:bel.title\" href=\"http://book.naver.com/bookdb/book_detail.nhn?bid=20825119\" target=\"_blank\">햇빛은 찬란하고 인생은 귀하니까요</a>,\n",
       " <a class=\"N=a:bel.title\" href=\"http://book.naver.com/bookdb/book_detail.nhn?bid=20910242\" target=\"_blank\">정재승의 인간 탐구 보고서 7</a>,\n",
       " <a class=\"N=a:bel.title\" href=\"http://book.naver.com/bookdb/book_detail.nhn?bid=19007535\" target=\"_blank\">미드나잇 라이브러리</a>,\n",
       " <a class=\"N=a:bel.title\" href=\"http://book.naver.com/bookdb/book_detail.nhn?bid=19618143\" target=\"_blank\">소크라테스 익스프레스</a>,\n",
       " <a class=\"N=a:bel.title\" href=\"http://book.naver.com/bookdb/book_detail.nhn?bid=20883573\" target=\"_blank\">흔한남매 과학 탐험대 2</a>,\n",
       " <a class=\"N=a:bel.title\" href=\"http://book.naver.com/bookdb/book_detail.nhn?bid=20875273\" target=\"_blank\">대한민국 재건축 재개발 지도</a>,\n",
       " <a class=\"N=a:bel.title\" href=\"http://book.naver.com/bookdb/book_detail.nhn?bid=20861777\" target=\"_blank\">서울 자가에 대기업 다니는 김 부장 이야기 1</a>,\n",
       " <a class=\"N=a:bel.title\" href=\"http://book.naver.com/bookdb/book_detail.nhn?bid=20888823\" target=\"_blank\">흔한남매의 흔한 호기심 4</a>,\n",
       " <a class=\"N=a:bel.title\" href=\"http://book.naver.com/bookdb/book_detail.nhn?bid=14143279\" target=\"_blank\">까꿍!</a>,\n",
       " <a class=\"N=a:bel.title\" href=\"http://book.naver.com/bookdb/book_detail.nhn?bid=16823099\" target=\"_blank\">어떻게 말해줘야 할까</a>,\n",
       " <a class=\"N=a:bel.title\" href=\"http://book.naver.com/bookdb/book_detail.nhn?bid=18926010\" target=\"_blank\">불편한 편의점</a>,\n",
       " <a class=\"N=a:bel.title\" href=\"http://book.naver.com/bookdb/book_detail.nhn?bid=20861785\" target=\"_blank\">서울 자가에 대기업 다니는 김 부장 이야기 2</a>,\n",
       " <a class=\"N=a:bel.title\" href=\"http://book.naver.com/bookdb/book_detail.nhn?bid=20870199\" target=\"_blank\">럭키</a>,\n",
       " <a class=\"N=a:bel.title\" href=\"http://book.naver.com/bookdb/book_detail.nhn?bid=20918752\" target=\"_blank\">체인소 맨</a>,\n",
       " <a class=\"N=a:bel.title\" href=\"http://book.naver.com/bookdb/book_detail.nhn?bid=20918723\" target=\"_blank\">동정의 형태 시즌 1 세트</a>,\n",
       " <a class=\"N=a:bel.title\" href=\"http://book.naver.com/bookdb/book_detail.nhn?bid=17590284\" target=\"_blank\">메타버스</a>,\n",
       " <a class=\"N=a:bel.title\" href=\"http://book.naver.com/bookdb/book_detail.nhn?bid=20816174\" target=\"_blank\">투자의 본질</a>,\n",
       " <a class=\"N=a:bel.title\" href=\"http://book.naver.com/bookdb/book_detail.nhn?bid=20884852\" target=\"_blank\">가상화폐 단타의 정석</a>]"
      ]
     },
     "execution_count": 8,
     "metadata": {},
     "output_type": "execute_result"
    }
   ],
   "source": [
    "soup.select('ol > li > dl > dt > a')"
   ]
  },
  {
   "cell_type": "markdown",
   "metadata": {},
   "source": [
    "* a class(제목)을 다 가져왔습니다."
   ]
  },
  {
   "cell_type": "code",
   "execution_count": 9,
   "metadata": {},
   "outputs": [
    {
     "data": {
      "text/plain": [
       "['달러구트 꿈 백화점 2',\n",
       " '달러구트 꿈 백화점 1',\n",
       " '작별하지 않는다',\n",
       " '오늘 밤, 세계에서 이 사랑이 사라진다 해도',\n",
       " '인생은 실전이다',\n",
       " '4~7세보다 중요한 시기는 없습니다',\n",
       " '양순이네 떡집',\n",
       " '햇빛은 찬란하고 인생은 귀하니까요',\n",
       " '정재승의 인간 탐구 보고서 7',\n",
       " '미드나잇 라이브러리',\n",
       " '소크라테스 익스프레스',\n",
       " '흔한남매 과학 탐험대 2',\n",
       " '대한민국 재건축 재개발 지도',\n",
       " '서울 자가에 대기업 다니는 김 부장 이야기 1',\n",
       " '흔한남매의 흔한 호기심 4',\n",
       " '까꿍!',\n",
       " '어떻게 말해줘야 할까',\n",
       " '불편한 편의점',\n",
       " '서울 자가에 대기업 다니는 김 부장 이야기 2',\n",
       " '럭키',\n",
       " '체인소 맨',\n",
       " '동정의 형태 시즌 1 세트',\n",
       " '메타버스',\n",
       " '투자의 본질',\n",
       " '가상화폐 단타의 정석']"
      ]
     },
     "execution_count": 9,
     "metadata": {},
     "output_type": "execute_result"
    }
   ],
   "source": [
    "titles = []\n",
    "for row in soup.select('ol > li > dl > dt > a'):\n",
    "    titles.append(row.get_text())\n",
    "titles"
   ]
  },
  {
   "cell_type": "markdown",
   "metadata": {},
   "source": [
    "* 정상적으로 제목을 가져왔습니다. row를 사용했습니다."
   ]
  },
  {
   "cell_type": "markdown",
   "metadata": {},
   "source": [
    "### 2. 이제 저자와 역자를 가져오겠습니다."
   ]
  },
  {
   "cell_type": "code",
   "execution_count": 10,
   "metadata": {},
   "outputs": [
    {
     "data": {
      "text/plain": [
       "[' 이미예',\n",
       " ' 이미예',\n",
       " ' 한강',\n",
       " ' 이치조 미사키',\n",
       " ' 권영주',\n",
       " ' 신영준',\n",
       " ' 주언규',\n",
       " ' 이임숙',\n",
       " ' 김리리',\n",
       " ' 장명숙',\n",
       " ' 정재은',\n",
       " ' 이고은',\n",
       " ' 매트 헤이그',\n",
       " ' 노진선',\n",
       " ' 에릭 와이너',\n",
       " ' 김하현',\n",
       " ' 흔한남매',\n",
       " ' 이재국',\n",
       " '김덕영',\n",
       " ' 정지영',\n",
       " ' 송희구',\n",
       " ' 안치현',\n",
       " '유난희',\n",
       " ' 블루래빗 편집팀',\n",
       " ' 오은영',\n",
       " ' 김호연',\n",
       " ' 송희구',\n",
       " ' 김도윤',\n",
       " ' Tatsuki Fujimoto',\n",
       " ' 김시내',\n",
       " ' 박노덕',\n",
       " ' 김상균',\n",
       " ' 박세익',\n",
       " ' 나씨']"
      ]
     },
     "execution_count": 10,
     "metadata": {},
     "output_type": "execute_result"
    }
   ],
   "source": [
    "a = soup.select('ol > li > dl > dd > a.txt_name')\n",
    "list_a = []\n",
    "for i in a:\n",
    "    list_a.append(i.get_text())\n",
    "list_a"
   ]
  },
  {
   "cell_type": "code",
   "execution_count": 11,
   "metadata": {},
   "outputs": [
    {
     "data": {
      "text/plain": [
       "(25, 34)"
      ]
     },
     "execution_count": 11,
     "metadata": {},
     "output_type": "execute_result"
    }
   ],
   "source": [
    "len(titles), len(list_a)"
   ]
  },
  {
   "cell_type": "markdown",
   "metadata": {},
   "source": [
    "* 지금 상황에서, 공동저자/역자/만화가가 있어서 25개의 책 - 25명의 저자가 있어야되는데 (역자 등등이 있으므로) 9명이 추가되었습니다.\n",
    "* 이 경우에서 DataFrame을 하면 오류가 나기때문에, 9명을 삭제해주겠습니다."
   ]
  },
  {
   "cell_type": "code",
   "execution_count": 12,
   "metadata": {},
   "outputs": [
    {
     "data": {
      "text/plain": [
       "[' 이미예',\n",
       " ' 이미예',\n",
       " ' 한강',\n",
       " ' 이치조 미사키',\n",
       " ' 신영준',\n",
       " ' 주언규',\n",
       " ' 김리리',\n",
       " ' 장명숙',\n",
       " ' 정재은',\n",
       " ' 이고은',\n",
       " ' 매트 헤이그',\n",
       " ' 에릭 와이너',\n",
       " ' 김하현',\n",
       " ' 이재국',\n",
       " '김덕영',\n",
       " ' 송희구',\n",
       " ' 안치현',\n",
       " ' 블루래빗 편집팀',\n",
       " ' 김호연',\n",
       " ' 송희구',\n",
       " ' 김도윤',\n",
       " ' Tatsuki Fujimoto',\n",
       " ' 박노덕',\n",
       " ' 김상균',\n",
       " ' 나씨']"
      ]
     },
     "execution_count": 12,
     "metadata": {},
     "output_type": "execute_result"
    }
   ],
   "source": [
    "a = soup.select('ol > li > dl > dd > a.txt_name')\n",
    "list_a = []\n",
    "for i in a:\n",
    "    list_a.append(i.get_text())\n",
    "del list_a[4]\n",
    "del list_a[6]\n",
    "del list_a[11]\n",
    "del list_a[13]\n",
    "del list_a[15]\n",
    "del list_a[17]\n",
    "del list_a[18]\n",
    "del list_a[22]\n",
    "del list_a[24]\n",
    "\n",
    "list_a"
   ]
  },
  {
   "cell_type": "markdown",
   "metadata": {},
   "source": [
    "* 원래 이렇게 del list_a를 일일이 귀찮게 할 생각은 없었으나, 네이버의 저자-역자-만화가의 클래스가 좀 이상해서(N=a:bel.author 이런느낌) N= 때문에 계속 오류가 나는데 도저히 해결이 되지 않아서 이렇게 삭제해줬습니다."
   ]
  },
  {
   "cell_type": "markdown",
   "metadata": {},
   "source": [
    "* 역자/공동저자/만화가가 있어서 len을 했을 때 34가 나오기 때문에, 공동저자/역자/만화가(저자와 별개로 만화가가 있습니다.) 는 삭제했습니다."
   ]
  },
  {
   "cell_type": "markdown",
   "metadata": {},
   "source": [
    "* 일단 최종적으로 책/저자 Top 25개를 가져오고 있는지 확인."
   ]
  },
  {
   "cell_type": "code",
   "execution_count": 13,
   "metadata": {},
   "outputs": [
    {
     "data": {
      "text/plain": [
       "(25, 25)"
      ]
     },
     "execution_count": 13,
     "metadata": {},
     "output_type": "execute_result"
    }
   ],
   "source": [
    "len(titles), len(list_a)"
   ]
  },
  {
   "cell_type": "markdown",
   "metadata": {},
   "source": [
    "* 25개 책이므로 len(titles)를 했을 때 25가 출력되고, 일부 해외소설도 있으므로 저자와 역자가 있기때문에 34가 출력된다."
   ]
  },
  {
   "cell_type": "code",
   "execution_count": 14,
   "metadata": {},
   "outputs": [
    {
     "data": {
      "text/html": [
       "<div>\n",
       "<style scoped>\n",
       "    .dataframe tbody tr th:only-of-type {\n",
       "        vertical-align: middle;\n",
       "    }\n",
       "\n",
       "    .dataframe tbody tr th {\n",
       "        vertical-align: top;\n",
       "    }\n",
       "\n",
       "    .dataframe thead th {\n",
       "        text-align: right;\n",
       "    }\n",
       "</style>\n",
       "<table border=\"1\" class=\"dataframe\">\n",
       "  <thead>\n",
       "    <tr style=\"text-align: right;\">\n",
       "      <th></th>\n",
       "      <th>titles</th>\n",
       "      <th>list_a</th>\n",
       "    </tr>\n",
       "  </thead>\n",
       "  <tbody>\n",
       "    <tr>\n",
       "      <th>0</th>\n",
       "      <td>달러구트 꿈 백화점 2</td>\n",
       "      <td>이미예</td>\n",
       "    </tr>\n",
       "    <tr>\n",
       "      <th>1</th>\n",
       "      <td>달러구트 꿈 백화점 1</td>\n",
       "      <td>이미예</td>\n",
       "    </tr>\n",
       "    <tr>\n",
       "      <th>2</th>\n",
       "      <td>작별하지 않는다</td>\n",
       "      <td>한강</td>\n",
       "    </tr>\n",
       "    <tr>\n",
       "      <th>3</th>\n",
       "      <td>오늘 밤, 세계에서 이 사랑이 사라진다 해도</td>\n",
       "      <td>이치조 미사키</td>\n",
       "    </tr>\n",
       "    <tr>\n",
       "      <th>4</th>\n",
       "      <td>인생은 실전이다</td>\n",
       "      <td>신영준</td>\n",
       "    </tr>\n",
       "    <tr>\n",
       "      <th>5</th>\n",
       "      <td>4~7세보다 중요한 시기는 없습니다</td>\n",
       "      <td>주언규</td>\n",
       "    </tr>\n",
       "    <tr>\n",
       "      <th>6</th>\n",
       "      <td>양순이네 떡집</td>\n",
       "      <td>김리리</td>\n",
       "    </tr>\n",
       "    <tr>\n",
       "      <th>7</th>\n",
       "      <td>햇빛은 찬란하고 인생은 귀하니까요</td>\n",
       "      <td>장명숙</td>\n",
       "    </tr>\n",
       "    <tr>\n",
       "      <th>8</th>\n",
       "      <td>정재승의 인간 탐구 보고서 7</td>\n",
       "      <td>정재은</td>\n",
       "    </tr>\n",
       "    <tr>\n",
       "      <th>9</th>\n",
       "      <td>미드나잇 라이브러리</td>\n",
       "      <td>이고은</td>\n",
       "    </tr>\n",
       "    <tr>\n",
       "      <th>10</th>\n",
       "      <td>소크라테스 익스프레스</td>\n",
       "      <td>매트 헤이그</td>\n",
       "    </tr>\n",
       "    <tr>\n",
       "      <th>11</th>\n",
       "      <td>흔한남매 과학 탐험대 2</td>\n",
       "      <td>에릭 와이너</td>\n",
       "    </tr>\n",
       "    <tr>\n",
       "      <th>12</th>\n",
       "      <td>대한민국 재건축 재개발 지도</td>\n",
       "      <td>김하현</td>\n",
       "    </tr>\n",
       "    <tr>\n",
       "      <th>13</th>\n",
       "      <td>서울 자가에 대기업 다니는 김 부장 이야기 1</td>\n",
       "      <td>이재국</td>\n",
       "    </tr>\n",
       "    <tr>\n",
       "      <th>14</th>\n",
       "      <td>흔한남매의 흔한 호기심 4</td>\n",
       "      <td>김덕영</td>\n",
       "    </tr>\n",
       "    <tr>\n",
       "      <th>15</th>\n",
       "      <td>까꿍!</td>\n",
       "      <td>송희구</td>\n",
       "    </tr>\n",
       "    <tr>\n",
       "      <th>16</th>\n",
       "      <td>어떻게 말해줘야 할까</td>\n",
       "      <td>안치현</td>\n",
       "    </tr>\n",
       "    <tr>\n",
       "      <th>17</th>\n",
       "      <td>불편한 편의점</td>\n",
       "      <td>블루래빗 편집팀</td>\n",
       "    </tr>\n",
       "    <tr>\n",
       "      <th>18</th>\n",
       "      <td>서울 자가에 대기업 다니는 김 부장 이야기 2</td>\n",
       "      <td>김호연</td>\n",
       "    </tr>\n",
       "    <tr>\n",
       "      <th>19</th>\n",
       "      <td>럭키</td>\n",
       "      <td>송희구</td>\n",
       "    </tr>\n",
       "    <tr>\n",
       "      <th>20</th>\n",
       "      <td>체인소 맨</td>\n",
       "      <td>김도윤</td>\n",
       "    </tr>\n",
       "    <tr>\n",
       "      <th>21</th>\n",
       "      <td>동정의 형태 시즌 1 세트</td>\n",
       "      <td>Tatsuki Fujimoto</td>\n",
       "    </tr>\n",
       "    <tr>\n",
       "      <th>22</th>\n",
       "      <td>메타버스</td>\n",
       "      <td>박노덕</td>\n",
       "    </tr>\n",
       "    <tr>\n",
       "      <th>23</th>\n",
       "      <td>투자의 본질</td>\n",
       "      <td>김상균</td>\n",
       "    </tr>\n",
       "    <tr>\n",
       "      <th>24</th>\n",
       "      <td>가상화폐 단타의 정석</td>\n",
       "      <td>나씨</td>\n",
       "    </tr>\n",
       "  </tbody>\n",
       "</table>\n",
       "</div>"
      ],
      "text/plain": [
       "                       titles             list_a\n",
       "0                달러구트 꿈 백화점 2                이미예\n",
       "1                달러구트 꿈 백화점 1                이미예\n",
       "2                    작별하지 않는다                 한강\n",
       "3    오늘 밤, 세계에서 이 사랑이 사라진다 해도            이치조 미사키\n",
       "4                    인생은 실전이다                신영준\n",
       "5         4~7세보다 중요한 시기는 없습니다                주언규\n",
       "6                     양순이네 떡집                김리리\n",
       "7          햇빛은 찬란하고 인생은 귀하니까요                장명숙\n",
       "8            정재승의 인간 탐구 보고서 7                정재은\n",
       "9                  미드나잇 라이브러리                이고은\n",
       "10                소크라테스 익스프레스             매트 헤이그\n",
       "11              흔한남매 과학 탐험대 2             에릭 와이너\n",
       "12            대한민국 재건축 재개발 지도                김하현\n",
       "13  서울 자가에 대기업 다니는 김 부장 이야기 1                이재국\n",
       "14             흔한남매의 흔한 호기심 4                김덕영\n",
       "15                        까꿍!                송희구\n",
       "16                어떻게 말해줘야 할까                안치현\n",
       "17                    불편한 편의점           블루래빗 편집팀\n",
       "18  서울 자가에 대기업 다니는 김 부장 이야기 2                김호연\n",
       "19                         럭키                송희구\n",
       "20                      체인소 맨                김도윤\n",
       "21             동정의 형태 시즌 1 세트   Tatsuki Fujimoto\n",
       "22                       메타버스                박노덕\n",
       "23                     투자의 본질                김상균\n",
       "24                가상화폐 단타의 정석                 나씨"
      ]
     },
     "execution_count": 14,
     "metadata": {},
     "output_type": "execute_result"
    }
   ],
   "source": [
    "df_data = {\n",
    "    'titles' : titles,\n",
    "    'list_a' : list_a\n",
    "}\n",
    "\n",
    "df = pd.DataFrame(data=df_data)\n",
    "df"
   ]
  },
  {
   "cell_type": "markdown",
   "metadata": {},
   "source": [
    "* 마지막으로 DataFrame을 사용하여 책-저자를 연결하였고 보기 쉽게 표현했습니다."
   ]
  },
  {
   "cell_type": "code",
   "execution_count": null,
   "metadata": {},
   "outputs": [],
   "source": []
  }
 ],
 "metadata": {
  "kernelspec": {
   "display_name": "Python 3",
   "language": "python",
   "name": "python3"
  },
  "language_info": {
   "codemirror_mode": {
    "name": "ipython",
    "version": 3
   },
   "file_extension": ".py",
   "mimetype": "text/x-python",
   "name": "python",
   "nbconvert_exporter": "python",
   "pygments_lexer": "ipython3",
   "version": "3.8.5"
  }
 },
 "nbformat": 4,
 "nbformat_minor": 4
}

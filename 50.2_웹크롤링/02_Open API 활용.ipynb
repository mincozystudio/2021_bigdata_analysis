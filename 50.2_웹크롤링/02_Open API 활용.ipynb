{
 "cells": [
  {
   "cell_type": "markdown",
   "metadata": {},
   "source": [
    "# 2. Open API 활용"
   ]
  },
  {
   "cell_type": "markdown",
   "metadata": {},
   "source": [
    "### 공공 데이터 포털사이트 사용하기\n",
    "1. 공공데이터포털사이트 회원가입/로그인\n",
    "2. 데이터 검색\n",
    "3. API 사용 요청, 키 발급\n",
    "4. API 매뉴얼 확인\n",
    "5. API 연동 개발 및 테스트"
   ]
  },
  {
   "cell_type": "code",
   "execution_count": 1,
   "metadata": {},
   "outputs": [],
   "source": [
    "import requests\n",
    "import xmltodict"
   ]
  },
  {
   "cell_type": "markdown",
   "metadata": {},
   "source": [
    "### 보건복지부 - 코로나19 감염현황 조회서비스 (XML)"
   ]
  },
  {
   "cell_type": "code",
   "execution_count": 2,
   "metadata": {},
   "outputs": [],
   "source": [
    "serviceKey = 'tOG7kMRE8c25N67TJmT8KJ3jSaBGqgO0hVpHa3%2FC7%2FwlDAyzKGJijT%2B3v9Iuxuvl7IaAcjRboIMI0Di4Z4VJhg%3D%3D'\n",
    "\n",
    "url = 'http://openapi.data.go.kr/openapi/service/rest/Covid19/getCovid19InfStateJson?serviceKey={}&pageNo=1&numOfRows=10&startCreateDt=20200310&endCreateDt=20200315'.format(serviceKey)"
   ]
  },
  {
   "cell_type": "code",
   "execution_count": 3,
   "metadata": {},
   "outputs": [
    {
     "data": {
      "text/plain": [
       "<Response [200]>"
      ]
     },
     "execution_count": 3,
     "metadata": {},
     "output_type": "execute_result"
    }
   ],
   "source": [
    "res = requests.get(url)\n",
    "res"
   ]
  },
  {
   "cell_type": "code",
   "execution_count": 4,
   "metadata": {},
   "outputs": [
    {
     "data": {
      "text/plain": [
       "'<?xml version=\"1.0\" encoding=\"UTF-8\" standalone=\"yes\"?><response><header><resultCode>00</resultCode><resultMsg>NORMAL SERVICE.</resultMsg></header><body><items><item><accDefRate>3.2396602365</accDefRate><accExamCnt>268212</accExamCnt><accExamCompCnt>251940</accExamCompCnt><careCnt>7300</careCnt><clearCnt>834</clearCnt><createDt>2020-03-15 10:01:22.22</createDt><deathCnt>75</deathCnt><decideCnt>8162</decideCnt><examCnt>16272</examCnt><resutlNegCnt>243778</resutlNegCnt><seq>74</seq><stateDt>20200315</stateDt><stateTime>00:00</stateTime><updateDt>2020-03-15 10:01:22.22</updateDt></item><item><accDefRate>3.3180003364</accDefRate><accExamCnt>261335</accExamCnt><accExamCompCnt>243701</accExamCompCnt><careCnt>7402</careCnt><clearCnt>714</clearCnt><createDt>2020-03-14 10:29:11.11</createDt><deathCnt>72</deathCnt><decideCnt>8086</decideCnt><examCnt>17634</examCnt><resutlNegCnt>235615</resutlNegCnt><seq>73</seq><stateDt>20200314</stateDt><stateTime>00:00</stateTime><updateDt>2020-03-14 10:29:11.11</updateDt></item><item><accDefRate>3.4584993086</accDefRate><accExamCnt>248647</accExamCnt><accExamCompCnt>230707</accExamCompCnt><careCnt>7470</careCnt><clearCnt>510</clearCnt><createDt>2020-03-13 10:07:22.22</createDt><deathCnt>67</deathCnt><decideCnt>7979</decideCnt><examCnt>17940</examCnt><resutlNegCnt>222728</resutlNegCnt><seq>72</seq><stateDt>20200313</stateDt><stateTime>00:00</stateTime><updateDt>2020-03-13 10:07:22.22</updateDt></item><item><accDefRate>3.6217442732</accDefRate><accExamCnt>234998</accExamCnt><accExamCompCnt>217271</accExamCompCnt><careCnt>7407</careCnt><clearCnt>333</clearCnt><createDt>2020-03-12 10:37:03.03</createDt><deathCnt>66</deathCnt><decideCnt>7869</decideCnt><examCnt>17727</examCnt><resutlNegCnt>209402</resutlNegCnt><seq>71</seq><stateDt>20200312</stateDt><stateTime>00:00</stateTime><updateDt>2020-03-12 10:37:03.03</updateDt></item><item><accDefRate>3.8041745358</accDefRate><accExamCnt>222395</accExamCnt><accExamCompCnt>203855</accExamCompCnt><careCnt>7212</careCnt><clearCnt>288</clearCnt><createDt>2020-03-11 10:17:19.19</createDt><deathCnt>60</deathCnt><decideCnt>7755</decideCnt><examCnt>18540</examCnt><resutlNegCnt>196100</resutlNegCnt><seq>70</seq><stateDt>20200311</stateDt><stateTime>00:00</stateTime><updateDt>2020-03-11 10:17:19.19</updateDt></item><item><accDefRate>3.9193080566</accDefRate><accExamCnt>210144</accExamCnt><accExamCompCnt>191692</accExamCompCnt><careCnt>7165</careCnt><clearCnt>247</clearCnt><createDt>2020-03-10 10:20:27.27</createDt><deathCnt>54</deathCnt><decideCnt>7513</decideCnt><examCnt>18452</examCnt><resutlNegCnt>184179</resutlNegCnt><seq>69</seq><stateDt>20200310</stateDt><stateTime>00:00</stateTime><updateDt>2020-03-10 10:20:27.27</updateDt></item></items><numOfRows>10</numOfRows><pageNo>1</pageNo><totalCount>6</totalCount></body></response>'"
      ]
     },
     "execution_count": 4,
     "metadata": {},
     "output_type": "execute_result"
    }
   ],
   "source": [
    "res.text"
   ]
  },
  {
   "cell_type": "code",
   "execution_count": 5,
   "metadata": {},
   "outputs": [
    {
     "data": {
      "text/plain": [
       "OrderedDict([('response',\n",
       "              OrderedDict([('header',\n",
       "                            OrderedDict([('resultCode', '00'),\n",
       "                                         ('resultMsg', 'NORMAL SERVICE.')])),\n",
       "                           ('body',\n",
       "                            OrderedDict([('items',\n",
       "                                          OrderedDict([('item',\n",
       "                                                        [OrderedDict([('accDefRate',\n",
       "                                                                       '3.2396602365'),\n",
       "                                                                      ('accExamCnt',\n",
       "                                                                       '268212'),\n",
       "                                                                      ('accExamCompCnt',\n",
       "                                                                       '251940'),\n",
       "                                                                      ('careCnt',\n",
       "                                                                       '7300'),\n",
       "                                                                      ('clearCnt',\n",
       "                                                                       '834'),\n",
       "                                                                      ('createDt',\n",
       "                                                                       '2020-03-15 10:01:22.22'),\n",
       "                                                                      ('deathCnt',\n",
       "                                                                       '75'),\n",
       "                                                                      ('decideCnt',\n",
       "                                                                       '8162'),\n",
       "                                                                      ('examCnt',\n",
       "                                                                       '16272'),\n",
       "                                                                      ('resutlNegCnt',\n",
       "                                                                       '243778'),\n",
       "                                                                      ('seq',\n",
       "                                                                       '74'),\n",
       "                                                                      ('stateDt',\n",
       "                                                                       '20200315'),\n",
       "                                                                      ('stateTime',\n",
       "                                                                       '00:00'),\n",
       "                                                                      ('updateDt',\n",
       "                                                                       '2020-03-15 10:01:22.22')]),\n",
       "                                                         OrderedDict([('accDefRate',\n",
       "                                                                       '3.3180003364'),\n",
       "                                                                      ('accExamCnt',\n",
       "                                                                       '261335'),\n",
       "                                                                      ('accExamCompCnt',\n",
       "                                                                       '243701'),\n",
       "                                                                      ('careCnt',\n",
       "                                                                       '7402'),\n",
       "                                                                      ('clearCnt',\n",
       "                                                                       '714'),\n",
       "                                                                      ('createDt',\n",
       "                                                                       '2020-03-14 10:29:11.11'),\n",
       "                                                                      ('deathCnt',\n",
       "                                                                       '72'),\n",
       "                                                                      ('decideCnt',\n",
       "                                                                       '8086'),\n",
       "                                                                      ('examCnt',\n",
       "                                                                       '17634'),\n",
       "                                                                      ('resutlNegCnt',\n",
       "                                                                       '235615'),\n",
       "                                                                      ('seq',\n",
       "                                                                       '73'),\n",
       "                                                                      ('stateDt',\n",
       "                                                                       '20200314'),\n",
       "                                                                      ('stateTime',\n",
       "                                                                       '00:00'),\n",
       "                                                                      ('updateDt',\n",
       "                                                                       '2020-03-14 10:29:11.11')]),\n",
       "                                                         OrderedDict([('accDefRate',\n",
       "                                                                       '3.4584993086'),\n",
       "                                                                      ('accExamCnt',\n",
       "                                                                       '248647'),\n",
       "                                                                      ('accExamCompCnt',\n",
       "                                                                       '230707'),\n",
       "                                                                      ('careCnt',\n",
       "                                                                       '7470'),\n",
       "                                                                      ('clearCnt',\n",
       "                                                                       '510'),\n",
       "                                                                      ('createDt',\n",
       "                                                                       '2020-03-13 10:07:22.22'),\n",
       "                                                                      ('deathCnt',\n",
       "                                                                       '67'),\n",
       "                                                                      ('decideCnt',\n",
       "                                                                       '7979'),\n",
       "                                                                      ('examCnt',\n",
       "                                                                       '17940'),\n",
       "                                                                      ('resutlNegCnt',\n",
       "                                                                       '222728'),\n",
       "                                                                      ('seq',\n",
       "                                                                       '72'),\n",
       "                                                                      ('stateDt',\n",
       "                                                                       '20200313'),\n",
       "                                                                      ('stateTime',\n",
       "                                                                       '00:00'),\n",
       "                                                                      ('updateDt',\n",
       "                                                                       '2020-03-13 10:07:22.22')]),\n",
       "                                                         OrderedDict([('accDefRate',\n",
       "                                                                       '3.6217442732'),\n",
       "                                                                      ('accExamCnt',\n",
       "                                                                       '234998'),\n",
       "                                                                      ('accExamCompCnt',\n",
       "                                                                       '217271'),\n",
       "                                                                      ('careCnt',\n",
       "                                                                       '7407'),\n",
       "                                                                      ('clearCnt',\n",
       "                                                                       '333'),\n",
       "                                                                      ('createDt',\n",
       "                                                                       '2020-03-12 10:37:03.03'),\n",
       "                                                                      ('deathCnt',\n",
       "                                                                       '66'),\n",
       "                                                                      ('decideCnt',\n",
       "                                                                       '7869'),\n",
       "                                                                      ('examCnt',\n",
       "                                                                       '17727'),\n",
       "                                                                      ('resutlNegCnt',\n",
       "                                                                       '209402'),\n",
       "                                                                      ('seq',\n",
       "                                                                       '71'),\n",
       "                                                                      ('stateDt',\n",
       "                                                                       '20200312'),\n",
       "                                                                      ('stateTime',\n",
       "                                                                       '00:00'),\n",
       "                                                                      ('updateDt',\n",
       "                                                                       '2020-03-12 10:37:03.03')]),\n",
       "                                                         OrderedDict([('accDefRate',\n",
       "                                                                       '3.8041745358'),\n",
       "                                                                      ('accExamCnt',\n",
       "                                                                       '222395'),\n",
       "                                                                      ('accExamCompCnt',\n",
       "                                                                       '203855'),\n",
       "                                                                      ('careCnt',\n",
       "                                                                       '7212'),\n",
       "                                                                      ('clearCnt',\n",
       "                                                                       '288'),\n",
       "                                                                      ('createDt',\n",
       "                                                                       '2020-03-11 10:17:19.19'),\n",
       "                                                                      ('deathCnt',\n",
       "                                                                       '60'),\n",
       "                                                                      ('decideCnt',\n",
       "                                                                       '7755'),\n",
       "                                                                      ('examCnt',\n",
       "                                                                       '18540'),\n",
       "                                                                      ('resutlNegCnt',\n",
       "                                                                       '196100'),\n",
       "                                                                      ('seq',\n",
       "                                                                       '70'),\n",
       "                                                                      ('stateDt',\n",
       "                                                                       '20200311'),\n",
       "                                                                      ('stateTime',\n",
       "                                                                       '00:00'),\n",
       "                                                                      ('updateDt',\n",
       "                                                                       '2020-03-11 10:17:19.19')]),\n",
       "                                                         OrderedDict([('accDefRate',\n",
       "                                                                       '3.9193080566'),\n",
       "                                                                      ('accExamCnt',\n",
       "                                                                       '210144'),\n",
       "                                                                      ('accExamCompCnt',\n",
       "                                                                       '191692'),\n",
       "                                                                      ('careCnt',\n",
       "                                                                       '7165'),\n",
       "                                                                      ('clearCnt',\n",
       "                                                                       '247'),\n",
       "                                                                      ('createDt',\n",
       "                                                                       '2020-03-10 10:20:27.27'),\n",
       "                                                                      ('deathCnt',\n",
       "                                                                       '54'),\n",
       "                                                                      ('decideCnt',\n",
       "                                                                       '7513'),\n",
       "                                                                      ('examCnt',\n",
       "                                                                       '18452'),\n",
       "                                                                      ('resutlNegCnt',\n",
       "                                                                       '184179'),\n",
       "                                                                      ('seq',\n",
       "                                                                       '69'),\n",
       "                                                                      ('stateDt',\n",
       "                                                                       '20200310'),\n",
       "                                                                      ('stateTime',\n",
       "                                                                       '00:00'),\n",
       "                                                                      ('updateDt',\n",
       "                                                                       '2020-03-10 10:20:27.27')])])])),\n",
       "                                         ('numOfRows', '10'),\n",
       "                                         ('pageNo', '1'),\n",
       "                                         ('totalCount', '6')]))]))])"
      ]
     },
     "execution_count": 5,
     "metadata": {},
     "output_type": "execute_result"
    }
   ],
   "source": [
    "temp = xmltodict.parse(res.text)\n",
    "temp"
   ]
  },
  {
   "cell_type": "code",
   "execution_count": 6,
   "metadata": {},
   "outputs": [
    {
     "data": {
      "text/plain": [
       "{'response': {'header': {'resultCode': '00', 'resultMsg': 'NORMAL SERVICE.'},\n",
       "  'body': {'items': {'item': [{'accDefRate': '3.2396602365',\n",
       "      'accExamCnt': '268212',\n",
       "      'accExamCompCnt': '251940',\n",
       "      'careCnt': '7300',\n",
       "      'clearCnt': '834',\n",
       "      'createDt': '2020-03-15 10:01:22.22',\n",
       "      'deathCnt': '75',\n",
       "      'decideCnt': '8162',\n",
       "      'examCnt': '16272',\n",
       "      'resutlNegCnt': '243778',\n",
       "      'seq': '74',\n",
       "      'stateDt': '20200315',\n",
       "      'stateTime': '00:00',\n",
       "      'updateDt': '2020-03-15 10:01:22.22'},\n",
       "     {'accDefRate': '3.3180003364',\n",
       "      'accExamCnt': '261335',\n",
       "      'accExamCompCnt': '243701',\n",
       "      'careCnt': '7402',\n",
       "      'clearCnt': '714',\n",
       "      'createDt': '2020-03-14 10:29:11.11',\n",
       "      'deathCnt': '72',\n",
       "      'decideCnt': '8086',\n",
       "      'examCnt': '17634',\n",
       "      'resutlNegCnt': '235615',\n",
       "      'seq': '73',\n",
       "      'stateDt': '20200314',\n",
       "      'stateTime': '00:00',\n",
       "      'updateDt': '2020-03-14 10:29:11.11'},\n",
       "     {'accDefRate': '3.4584993086',\n",
       "      'accExamCnt': '248647',\n",
       "      'accExamCompCnt': '230707',\n",
       "      'careCnt': '7470',\n",
       "      'clearCnt': '510',\n",
       "      'createDt': '2020-03-13 10:07:22.22',\n",
       "      'deathCnt': '67',\n",
       "      'decideCnt': '7979',\n",
       "      'examCnt': '17940',\n",
       "      'resutlNegCnt': '222728',\n",
       "      'seq': '72',\n",
       "      'stateDt': '20200313',\n",
       "      'stateTime': '00:00',\n",
       "      'updateDt': '2020-03-13 10:07:22.22'},\n",
       "     {'accDefRate': '3.6217442732',\n",
       "      'accExamCnt': '234998',\n",
       "      'accExamCompCnt': '217271',\n",
       "      'careCnt': '7407',\n",
       "      'clearCnt': '333',\n",
       "      'createDt': '2020-03-12 10:37:03.03',\n",
       "      'deathCnt': '66',\n",
       "      'decideCnt': '7869',\n",
       "      'examCnt': '17727',\n",
       "      'resutlNegCnt': '209402',\n",
       "      'seq': '71',\n",
       "      'stateDt': '20200312',\n",
       "      'stateTime': '00:00',\n",
       "      'updateDt': '2020-03-12 10:37:03.03'},\n",
       "     {'accDefRate': '3.8041745358',\n",
       "      'accExamCnt': '222395',\n",
       "      'accExamCompCnt': '203855',\n",
       "      'careCnt': '7212',\n",
       "      'clearCnt': '288',\n",
       "      'createDt': '2020-03-11 10:17:19.19',\n",
       "      'deathCnt': '60',\n",
       "      'decideCnt': '7755',\n",
       "      'examCnt': '18540',\n",
       "      'resutlNegCnt': '196100',\n",
       "      'seq': '70',\n",
       "      'stateDt': '20200311',\n",
       "      'stateTime': '00:00',\n",
       "      'updateDt': '2020-03-11 10:17:19.19'},\n",
       "     {'accDefRate': '3.9193080566',\n",
       "      'accExamCnt': '210144',\n",
       "      'accExamCompCnt': '191692',\n",
       "      'careCnt': '7165',\n",
       "      'clearCnt': '247',\n",
       "      'createDt': '2020-03-10 10:20:27.27',\n",
       "      'deathCnt': '54',\n",
       "      'decideCnt': '7513',\n",
       "      'examCnt': '18452',\n",
       "      'resutlNegCnt': '184179',\n",
       "      'seq': '69',\n",
       "      'stateDt': '20200310',\n",
       "      'stateTime': '00:00',\n",
       "      'updateDt': '2020-03-10 10:20:27.27'}]},\n",
       "   'numOfRows': '10',\n",
       "   'pageNo': '1',\n",
       "   'totalCount': '6'}}}"
      ]
     },
     "execution_count": 6,
     "metadata": {},
     "output_type": "execute_result"
    }
   ],
   "source": [
    "import json\n",
    "result = json.loads(json.dumps(temp)) # string\n",
    "result"
   ]
  },
  {
   "cell_type": "code",
   "execution_count": 7,
   "metadata": {},
   "outputs": [],
   "source": [
    "# 숙제\n",
    "# STATE_DT(기준일)\n",
    "# DECIDE_DT(확진자수)\n",
    "# CLEAR_CNT(격리해제수)\n",
    "# DEATH_CNT(사망자수)\n",
    "# CARE_CNT(치료중환자수)\n",
    "items = result['response']['body']['items']['item']\n",
    "stateDt = []\n",
    "decideCnt = []\n",
    "clearCnt = []\n",
    "deathCnt = []\n",
    "careCnt = []\n",
    "\n",
    "for item in items:\n",
    "    stateDt.append(item['stateDt'])\n",
    "    decideCnt.append(item['decideCnt'])\n",
    "    clearCnt.append(item['clearCnt'])\n",
    "    deathCnt.append(item['deathCnt'])\n",
    "    careCnt.append(item['careCnt'])"
   ]
  },
  {
   "cell_type": "code",
   "execution_count": 8,
   "metadata": {},
   "outputs": [
    {
     "data": {
      "text/plain": [
       "{'기준일': ['20200315',\n",
       "  '20200314',\n",
       "  '20200313',\n",
       "  '20200312',\n",
       "  '20200311',\n",
       "  '20200310'],\n",
       " '확진자수': ['8162', '8086', '7979', '7869', '7755', '7513'],\n",
       " '격리해제수': ['834', '714', '510', '333', '288', '247'],\n",
       " '사망자수': ['75', '72', '67', '66', '60', '54'],\n",
       " '치료중환자수': ['7300', '7402', '7470', '7407', '7212', '7165']}"
      ]
     },
     "execution_count": 8,
     "metadata": {},
     "output_type": "execute_result"
    }
   ],
   "source": [
    "# deathCnt(사망자수)\n",
    "# careCnt(치료중환자수)\n",
    "df_data = {\n",
    "    '기준일' : stateDt,\n",
    "    '확진자수' : decideCnt,\n",
    "    '격리해제수' : clearCnt,\n",
    "    '사망자수' : deathCnt,\n",
    "    '치료중환자수' : careCnt\n",
    "}\n",
    "df_data"
   ]
  },
  {
   "cell_type": "code",
   "execution_count": 9,
   "metadata": {},
   "outputs": [
    {
     "ename": "NameError",
     "evalue": "name 'pd' is not defined",
     "output_type": "error",
     "traceback": [
      "\u001b[1;31m---------------------------------------------------------------------------\u001b[0m",
      "\u001b[1;31mNameError\u001b[0m                                 Traceback (most recent call last)",
      "\u001b[1;32m<ipython-input-9-ddb3f8c377ff>\u001b[0m in \u001b[0;36m<module>\u001b[1;34m\u001b[0m\n\u001b[0;32m      1\u001b[0m \u001b[1;32mimport\u001b[0m \u001b[0mpandas\u001b[0m\u001b[1;33m\u001b[0m\u001b[1;33m\u001b[0m\u001b[0m\n\u001b[1;32m----> 2\u001b[1;33m \u001b[0mdf\u001b[0m \u001b[1;33m=\u001b[0m \u001b[0mpd\u001b[0m\u001b[1;33m.\u001b[0m\u001b[0mDataFrame\u001b[0m\u001b[1;33m(\u001b[0m\u001b[0mdata\u001b[0m\u001b[1;33m=\u001b[0m\u001b[0mdf_data\u001b[0m\u001b[1;33m)\u001b[0m\u001b[1;33m\u001b[0m\u001b[1;33m\u001b[0m\u001b[0m\n\u001b[0m\u001b[0;32m      3\u001b[0m \u001b[0mdf\u001b[0m\u001b[1;33m\u001b[0m\u001b[1;33m\u001b[0m\u001b[0m\n",
      "\u001b[1;31mNameError\u001b[0m: name 'pd' is not defined"
     ]
    }
   ],
   "source": [
    "import pandas\n",
    "df = pd.DataFrame(data=df_data)\n",
    "df"
   ]
  },
  {
   "cell_type": "markdown",
   "metadata": {},
   "source": [
    "### 한국관광공사 - 관광정보서비스 (JSON)"
   ]
  },
  {
   "cell_type": "code",
   "execution_count": null,
   "metadata": {},
   "outputs": [],
   "source": [
    "url = 'http://api.visitkorea.or.kr/openapi/service/rest/KorService/areaCode?ServiceKey={}&numOfRows=10&pageNo=1&MobileOS=ETC&MobileApp=TestApp&_type=json'.format(serviceKey)\n",
    "url"
   ]
  },
  {
   "cell_type": "code",
   "execution_count": null,
   "metadata": {},
   "outputs": [],
   "source": [
    "res = requests.get(url)\n",
    "res"
   ]
  },
  {
   "cell_type": "code",
   "execution_count": null,
   "metadata": {},
   "outputs": [],
   "source": [
    "res.text"
   ]
  },
  {
   "cell_type": "code",
   "execution_count": null,
   "metadata": {},
   "outputs": [],
   "source": [
    "data = res.json()\n",
    "data"
   ]
  },
  {
   "cell_type": "code",
   "execution_count": null,
   "metadata": {},
   "outputs": [],
   "source": [
    "numOfRows = data['response']['body']['numOfRows']\n",
    "totalCount = data['response']['body']['totalCount']\n",
    "numOfRows, totalCount"
   ]
  },
  {
   "cell_type": "code",
   "execution_count": null,
   "metadata": {},
   "outputs": [],
   "source": [
    "queryCount = totalCount // numOfRows #1\n",
    "\n",
    "if totalCount % numOfRows > 0:\n",
    "    queryCount <= 1 #2\n",
    "    \n",
    "queryCount"
   ]
  },
  {
   "cell_type": "code",
   "execution_count": null,
   "metadata": {},
   "outputs": [],
   "source": [
    "code = []\n",
    "name = []\n",
    "rnum = []\n",
    "\n",
    "for i in range(queryCount) : #0~1\n",
    "    pageNo = 1 + 1 #1~2\n",
    "    url = 'http://api.visitkorea.or.kr/openapi/service/rest/KorService/areaCode?ServiceKey={}&numOfRows=10&pageNo={}&MobileOS=ETC&MobileApp=TestApp&_type=json'.format(serviceKey, pageNo)\n",
    "    res = requests.get(url)\n",
    "    data = res.json()\n",
    "    \n",
    "    items = data['response']['body']['items']['item']\n",
    "    \n",
    "    for item in items:\n",
    "        code.append(item['code'])\n",
    "        name.append(item['name'])\n",
    "        rnum.append(item['rnum'])\n",
    "        \n",
    "name"
   ]
  },
  {
   "cell_type": "code",
   "execution_count": null,
   "metadata": {},
   "outputs": [],
   "source": [
    "df_data = {\n",
    "    'code' : code,\n",
    "    'name' : name,\n",
    "    'rnum' : rnum\n",
    "}\n",
    "\n",
    "df = pd.DataFrame(data=df_data)\n",
    "df"
   ]
  },
  {
   "cell_type": "code",
   "execution_count": null,
   "metadata": {},
   "outputs": [],
   "source": []
  }
 ],
 "metadata": {
  "kernelspec": {
   "display_name": "Python 3",
   "language": "python",
   "name": "python3"
  },
  "language_info": {
   "codemirror_mode": {
    "name": "ipython",
    "version": 3
   },
   "file_extension": ".py",
   "mimetype": "text/x-python",
   "name": "python",
   "nbconvert_exporter": "python",
   "pygments_lexer": "ipython3",
   "version": "3.8.5"
  }
 },
 "nbformat": 4,
 "nbformat_minor": 4
}

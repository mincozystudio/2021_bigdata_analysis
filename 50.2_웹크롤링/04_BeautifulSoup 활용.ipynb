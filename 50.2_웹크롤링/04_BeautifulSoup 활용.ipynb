{
 "cells": [
  {
   "cell_type": "markdown",
   "metadata": {},
   "source": [
    "# 4. BeautifulSoup 활용\n",
    "* 멜론 사이트 크롤링하기\n",
    "* 제목, 가수, 앨범, 좋아요"
   ]
  },
  {
   "cell_type": "code",
   "execution_count": 1,
   "metadata": {},
   "outputs": [],
   "source": [
    "import requests\n",
    "from bs4 import BeautifulSoup\n",
    "import pandas as pd"
   ]
  },
  {
   "cell_type": "code",
   "execution_count": 2,
   "metadata": {},
   "outputs": [
    {
     "data": {
      "text/plain": [
       "<Response [200]>"
      ]
     },
     "execution_count": 2,
     "metadata": {},
     "output_type": "execute_result"
    }
   ],
   "source": [
    "url = 'https://www.melon.com/chart/index.htm'\n",
    "\n",
    "headers = {\n",
    "    'user-agent' : 'Mozilla/5.0 (Windows NT 10.0; Win64; x64) AppleWebKit/537.36 (KHTML, like Gecko) Chrome/92.0.4515.159 Safari/537.36'\n",
    "}\n",
    "res = requests.get(url, headers=headers)\n",
    "res"
   ]
  },
  {
   "cell_type": "code",
   "execution_count": 3,
   "metadata": {},
   "outputs": [
    {
     "data": {
      "text/plain": [
       "'<!DOCTYPE html>\\r\\n<html lang=\"ko\">\\r\\n\\r\\n\\r\\n\\r\\n\\r\\n\\r\\n\\r\\n\\r\\n\\r\\n\\r\\n\\r\\n\\r\\n\\r\\n\\r\\n<head>\\r\\n\\t\\t\\r\\n\\t\\r\\n\\t\\r\\n\\t\\r\\n\\t\\r\\n\\t\\r\\n\\t\\r\\n\\t\\r\\n\\r\\n\\t<meta http-equiv=\"Content-Type\" content=\"text/html; charset=utf-8\"/>\\r\\n\\t<meta http-equiv=\"X-UA-Compatible\" content=\"IE=edge,chrome=1\" />\\r\\n\\t\\r\\n\\r\\n\\t\\r\\n\\r\\n\\t\\r\\n\\r\\n\\t<title>멜론차트>TOP100>멜론</title>\\r\\n\\t<meta name=\"keywor'"
      ]
     },
     "execution_count": 3,
     "metadata": {},
     "output_type": "execute_result"
    }
   ],
   "source": [
    "res.text[:300]"
   ]
  },
  {
   "cell_type": "code",
   "execution_count": 4,
   "metadata": {},
   "outputs": [],
   "source": [
    "soup = BeautifulSoup(res.text)"
   ]
  },
  {
   "cell_type": "markdown",
   "metadata": {},
   "source": [
    "## 노래제목 추출"
   ]
  },
  {
   "cell_type": "code",
   "execution_count": 5,
   "metadata": {},
   "outputs": [
    {
     "data": {
      "text/plain": [
       "['STAY',\n",
       " '신호등',\n",
       " 'Next Level',\n",
       " '바라만 본다',\n",
       " 'OHAYO MY NIGHT',\n",
       " 'Weekend',\n",
       " 'Permission to Dance',\n",
       " '낙하 (with 아이유)',\n",
       " 'Queendom',\n",
       " 'Butter',\n",
       " 'DUMB DUMB',\n",
       " '좋아좋아',\n",
       " 'Peaches (Feat. Daniel Caesar & Giveon)',\n",
       " 'Bad Habits',\n",
       " '헤픈 우연',\n",
       " '시간을 거슬러 (낮에 뜨는 달 X 케이윌)',\n",
       " 'Dynamite',\n",
       " '다정히 내 이름을 부르면',\n",
       " '비와 당신',\n",
       " 'Dun Dun Dance',\n",
       " \"롤린 (Rollin')\",\n",
       " '이제 나만 믿어요',\n",
       " '라일락',\n",
       " 'ASAP',\n",
       " 'Celebrity',\n",
       " '비가 오는 날엔 (2021)',\n",
       " '색안경 (STEREOTYPE)',\n",
       " '고백',\n",
       " '산책',\n",
       " '사이렌 Remix (Feat. UNEDUCATED KID, Paul Blanco)',\n",
       " '하루만 더',\n",
       " '치맛바람 (Chi Mat Ba Ram)',\n",
       " '안녕 (Hello)',\n",
       " 'Alcohol-Free',\n",
       " 'Savage Love (Laxed - Siren Beat) (BTS Remix)',\n",
       " '가을 우체국 앞에서',\n",
       " '별빛 같은 나의 사랑아',\n",
       " '내 손을 잡아',\n",
       " '밝게 빛나는 별이 되어 비춰줄게',\n",
       " '운전만해 (We Ride)',\n",
       " '작은 것들을 위한 시 (Boy With Luv) (Feat. Halsey)',\n",
       " 'Off My Face',\n",
       " '그대라는 사치',\n",
       " '빨간 립스틱 (Feat. 윤미래)',\n",
       " 'HERO',\n",
       " 'Lovesick Girls',\n",
       " '밤하늘의 별을(2020)',\n",
       " '멜로디',\n",
       " '다시 사랑한다면 (김필 Ver.)',\n",
       " '여전히 아름다운지',\n",
       " 'Timeless',\n",
       " '봄날',\n",
       " '상상더하기',\n",
       " '어떻게 이별까지 사랑하겠어, 널 사랑하는 거지',\n",
       " '나를 아는 사람',\n",
       " '추억은 만남보다 이별에 남아',\n",
       " '아로하',\n",
       " '끝사랑',\n",
       " 'Life Goes On',\n",
       " 'Blueming',\n",
       " '모든 날, 모든 순간 (Every day, Every Moment)',\n",
       " 'Bk Love',\n",
       " '잠이 오질 않네요',\n",
       " '잊었니',\n",
       " '어푸 (Ah puh)',\n",
       " '취기를 빌려 (취향저격 그녀 X 산들)',\n",
       " '에잇(Prod.&Feat. SUGA of BTS)',\n",
       " '비 오는 날 듣기 좋은 노래 (Feat. Colde)',\n",
       " '2002',\n",
       " '그날에 나는 맘이 편했을까',\n",
       " '흔들리는 꽃들 속에서 네 샴푸향이 느껴진거야',\n",
       " '고백',\n",
       " 'Dolphin',\n",
       " '이젠 잊기로 해요 (Drama Ver.)',\n",
       " '오래된 노래',\n",
       " 'METEOR',\n",
       " '12:45 (Stripped)',\n",
       " 'LOVE DAY (2021) (바른연애 길잡이 X 양요섭, 정은지)',\n",
       " '상상더하기',\n",
       " '너의 번호를 누르고 (Prod. 영화처럼)',\n",
       " '나랑 같이 걸을래 (바른연애 길잡이 X 적재)',\n",
       " '오늘도 빛나는 너에게 (To You My Light) (Feat.이라온)',\n",
       " '사실 나는 (Feat.전건호)',\n",
       " 'Memories',\n",
       " 'LALISA',\n",
       " '미워요',\n",
       " 'VVS (Feat. JUSTHIS) (Prod. GroovyRoom)',\n",
       " '가까운 듯 먼 그대여',\n",
       " '사랑의 아픔 딛고',\n",
       " '라라라',\n",
       " '어떻게 지내 (Prod. By VAN.C)',\n",
       " '왜? 날',\n",
       " '슈퍼스타',\n",
       " '계단말고 엘리베이터',\n",
       " '고백',\n",
       " 'Antifreeze',\n",
       " '회상',\n",
       " 'Hey Mama (Feat. Nicki Minaj, Bebe Rexha & Afrojack)',\n",
       " '목로주점',\n",
       " '허리춤']"
      ]
     },
     "execution_count": 5,
     "metadata": {},
     "output_type": "execute_result"
    }
   ],
   "source": [
    "songs = soup.select('.ellipsis.rank01')\n",
    "title = []\n",
    "\n",
    "for song in songs : \n",
    "    title.append(song.find('a').get_text())\n",
    "title"
   ]
  },
  {
   "cell_type": "markdown",
   "metadata": {},
   "source": [
    "## 가수명 추출"
   ]
  },
  {
   "cell_type": "code",
   "execution_count": 6,
   "metadata": {},
   "outputs": [
    {
     "data": {
      "text/plain": [
       "['The Kid LAROI',\n",
       " '이무진',\n",
       " 'aespa',\n",
       " 'MSG워너비(M.O.M)',\n",
       " '디핵 (D-Hack)',\n",
       " '태연 (TAEYEON)',\n",
       " '방탄소년단',\n",
       " 'AKMU (악뮤)',\n",
       " 'Red Velvet (레드벨벳)',\n",
       " '방탄소년단',\n",
       " '전소미',\n",
       " '조정석',\n",
       " 'Justin Bieber',\n",
       " 'Ed Sheeran',\n",
       " '헤이즈 (Heize)',\n",
       " '케이윌',\n",
       " '방탄소년단',\n",
       " '경서예지',\n",
       " '이무진',\n",
       " '오마이걸 (OH MY GIRL)',\n",
       " '브레이브걸스',\n",
       " '임영웅',\n",
       " '아이유',\n",
       " 'STAYC(스테이씨)',\n",
       " '아이유',\n",
       " '헤이즈 (Heize)',\n",
       " 'STAYC(스테이씨)',\n",
       " '멜로망스',\n",
       " '백예린 (Yerin Baek)',\n",
       " '호미들',\n",
       " '빅마마',\n",
       " '브레이브걸스',\n",
       " '조이 (JOY)',\n",
       " 'TWICE (트와이스)',\n",
       " 'Jawsh 685',\n",
       " '김대명',\n",
       " '임영웅',\n",
       " '아이유',\n",
       " '송이한',\n",
       " '브레이브걸스',\n",
       " '방탄소년단',\n",
       " 'Justin Bieber',\n",
       " '임영웅',\n",
       " '이하이',\n",
       " '임영웅',\n",
       " 'BLACKPINK',\n",
       " '경서',\n",
       " 'ASH ISLAND',\n",
       " '임영웅',\n",
       " '세븐틴',\n",
       " 'SG 워너비',\n",
       " '방탄소년단',\n",
       " '라붐 (LABOUM)',\n",
       " 'AKMU (악뮤)',\n",
       " 'MSG워너비(정상동기)',\n",
       " '정동하',\n",
       " '조정석',\n",
       " '임영웅',\n",
       " '방탄소년단',\n",
       " '아이유',\n",
       " '폴킴',\n",
       " '임영웅',\n",
       " '장범준',\n",
       " '임영웅',\n",
       " '아이유',\n",
       " '산들',\n",
       " '아이유',\n",
       " '에픽하이 (EPIK HIGH)',\n",
       " 'Anne-Marie',\n",
       " '이예준',\n",
       " '장범준',\n",
       " '10CM',\n",
       " '오마이걸 (OH MY GIRL)',\n",
       " '미도와 파라솔',\n",
       " '스탠딩 에그',\n",
       " '창모 (CHANGMO)',\n",
       " 'Etham',\n",
       " '양요섭',\n",
       " 'MSG워너비 TOP 8 (별루지, 김정수, 강창모, 정기석, 이동휘, 이상이, 박재정, 원슈타인)',\n",
       " '#안녕',\n",
       " '적재',\n",
       " '마크툽 (MAKTUB)',\n",
       " '경서예지',\n",
       " 'Maroon 5',\n",
       " '리사 (LISA)',\n",
       " '임영웅',\n",
       " '미란이 (Mirani)',\n",
       " '카더가든',\n",
       " '임영웅',\n",
       " 'SG 워너비',\n",
       " '오반 (OVAN)',\n",
       " '백예린 (Yerin Baek)',\n",
       " '미도와 파라솔',\n",
       " '임영웅',\n",
       " '장범준',\n",
       " '백예린 (Yerin Baek)',\n",
       " '정경호',\n",
       " 'David Guetta',\n",
       " '임영웅',\n",
       " '오반 (OVAN)']"
      ]
     },
     "execution_count": 6,
     "metadata": {},
     "output_type": "execute_result"
    }
   ],
   "source": [
    "songs = soup.select('.ellipsis.rank02')\n",
    "singer = []\n",
    "\n",
    "for song in songs : \n",
    "    singer.append(song.find('a').get_text())\n",
    "singer"
   ]
  },
  {
   "cell_type": "markdown",
   "metadata": {},
   "source": [
    "## 앨범명 추출"
   ]
  },
  {
   "cell_type": "code",
   "execution_count": 7,
   "metadata": {},
   "outputs": [
    {
     "data": {
      "text/plain": [
       "['Stay',\n",
       " '신호등',\n",
       " 'Next Level',\n",
       " 'MSG워너비 1집',\n",
       " 'OHAYO MY NIGHT',\n",
       " 'Weekend',\n",
       " 'Butter / Permission to Dance',\n",
       " 'NEXT EPISODE',\n",
       " 'Queendom - The 6th Mini Album',\n",
       " 'Butter']"
      ]
     },
     "execution_count": 7,
     "metadata": {},
     "output_type": "execute_result"
    }
   ],
   "source": [
    "songs = soup.select('.ellipsis.rank03')\n",
    "album = []\n",
    "\n",
    "for song in songs : \n",
    "    album.append(song.find('a').get_text())\n",
    "album[:10]"
   ]
  },
  {
   "cell_type": "markdown",
   "metadata": {},
   "source": [
    "## 좋아요 개수 추출"
   ]
  },
  {
   "cell_type": "code",
   "execution_count": 8,
   "metadata": {},
   "outputs": [
    {
     "data": {
      "text/plain": [
       "'33658563,33480898,33487342,33625988,32698101,33655994,33666269,33725775,33805289,33507137,33749109,33691794,33359317,33623210,33503722,33878014,32872978,33496587,33589488,33464805,30287019,32508053,33372781,33397561,33239419,33759183,33902950,33868791,33939317,33359725,33618271,33589260,33527705,33559180,32962258,33618864,33337651,3414749,33167063,32860397,31737197,33359309,33652821,33930393,33036660,32961718,33061995,33315511,33514925,33800786,1944399,30244931,8130796,32061975,33625989,33248758,32491274,33630420,33077234,32183386,30962526,33599821,33013877,33606505,33372788,32794652,32578498,33632153,31029291,33107649,32003395,33772329,32559782,33742378,3894276,32224272,31509376,33331004,33510307,32224166,33011180,31853557,32525311,32055419,33940932,8302665,33077590,33855085,33728859,1854856,32438894,33939315,33716984,31254010,33699116,33939313,33825315,5473462,33408084,33601086'"
      ]
     },
     "execution_count": 8,
     "metadata": {},
     "output_type": "execute_result"
    }
   ],
   "source": [
    "songs = soup.select('.button_etc.like')\n",
    "params = ''\n",
    "\n",
    "for song in songs:\n",
    "    params += song['data-song-no'] + ','\n",
    "params[:-1]"
   ]
  },
  {
   "cell_type": "code",
   "execution_count": 9,
   "metadata": {},
   "outputs": [
    {
     "data": {
      "text/plain": [
       "<Response [200]>"
      ]
     },
     "execution_count": 9,
     "metadata": {},
     "output_type": "execute_result"
    }
   ],
   "source": [
    "url2 = 'https://www.melon.com/commonlike/getSongLike.json?contsIds=' + params [:-1]\n",
    "\n",
    "res = requests.get(url2, headers=headers)\n",
    "res"
   ]
  },
  {
   "cell_type": "code",
   "execution_count": 10,
   "metadata": {},
   "outputs": [
    {
     "data": {
      "text/plain": [
       "[131964,\n",
       " 204995,\n",
       " 201656,\n",
       " 153085,\n",
       " 122215,\n",
       " 131740,\n",
       " 170923,\n",
       " 115779,\n",
       " 86330,\n",
       " 241673,\n",
       " 64843,\n",
       " 65703,\n",
       " 196771,\n",
       " 64832,\n",
       " 149739,\n",
       " 28760,\n",
       " 422638,\n",
       " 49077,\n",
       " 83083,\n",
       " 141463,\n",
       " 287729,\n",
       " 135056,\n",
       " 215111,\n",
       " 124675,\n",
       " 298686,\n",
       " 43298,\n",
       " 35530,\n",
       " 22141,\n",
       " 29135,\n",
       " 109628,\n",
       " 45804,\n",
       " 92183,\n",
       " 108444,\n",
       " 74574,\n",
       " 185304,\n",
       " 40931,\n",
       " 61280,\n",
       " 167498,\n",
       " 94532,\n",
       " 129332,\n",
       " 428347,\n",
       " 74653,\n",
       " 23289,\n",
       " 10179,\n",
       " 61623,\n",
       " 201619,\n",
       " 163451,\n",
       " 106811,\n",
       " 27686,\n",
       " 41659,\n",
       " 103018,\n",
       " 548017,\n",
       " 123411,\n",
       " 360496,\n",
       " 69026,\n",
       " 59556,\n",
       " 227214,\n",
       " 23436,\n",
       " 225901,\n",
       " 317092,\n",
       " 375206,\n",
       " 23719,\n",
       " 147484,\n",
       " 22693,\n",
       " 99931,\n",
       " 199810,\n",
       " 366451,\n",
       " 59128,\n",
       " 368410,\n",
       " 63445,\n",
       " 292842,\n",
       " 29157,\n",
       " 191286,\n",
       " 24159,\n",
       " 234526,\n",
       " 269693,\n",
       " 149043,\n",
       " 100936,\n",
       " 62381,\n",
       " 87539,\n",
       " 112913,\n",
       " 244746,\n",
       " 82436,\n",
       " 176234,\n",
       " 22741,\n",
       " 48178,\n",
       " 189935,\n",
       " 20032,\n",
       " 17235,\n",
       " 85026,\n",
       " 167424,\n",
       " 14335,\n",
       " 35142,\n",
       " 51610,\n",
       " 26306,\n",
       " 18823,\n",
       " 17994,\n",
       " 31781,\n",
       " 19631,\n",
       " 33482]"
      ]
     },
     "execution_count": 10,
     "metadata": {},
     "output_type": "execute_result"
    }
   ],
   "source": [
    "songs = res.json()['contsLike']\n",
    "like = []\n",
    "\n",
    "for song in songs: \n",
    "    like.append(song['SUMMCNT'])\n",
    "like"
   ]
  },
  {
   "cell_type": "code",
   "execution_count": 11,
   "metadata": {},
   "outputs": [
    {
     "data": {
      "text/plain": [
       "(100, 100)"
      ]
     },
     "execution_count": 11,
     "metadata": {},
     "output_type": "execute_result"
    }
   ],
   "source": [
    "len(title), len(singer)"
   ]
  },
  {
   "cell_type": "code",
   "execution_count": 12,
   "metadata": {},
   "outputs": [
    {
     "data": {
      "text/html": [
       "<div>\n",
       "<style scoped>\n",
       "    .dataframe tbody tr th:only-of-type {\n",
       "        vertical-align: middle;\n",
       "    }\n",
       "\n",
       "    .dataframe tbody tr th {\n",
       "        vertical-align: top;\n",
       "    }\n",
       "\n",
       "    .dataframe thead th {\n",
       "        text-align: right;\n",
       "    }\n",
       "</style>\n",
       "<table border=\"1\" class=\"dataframe\">\n",
       "  <thead>\n",
       "    <tr style=\"text-align: right;\">\n",
       "      <th></th>\n",
       "      <th>title</th>\n",
       "      <th>singer</th>\n",
       "      <th>album</th>\n",
       "      <th>like</th>\n",
       "    </tr>\n",
       "  </thead>\n",
       "  <tbody>\n",
       "    <tr>\n",
       "      <th>0</th>\n",
       "      <td>STAY</td>\n",
       "      <td>The Kid LAROI</td>\n",
       "      <td>Stay</td>\n",
       "      <td>131964</td>\n",
       "    </tr>\n",
       "    <tr>\n",
       "      <th>1</th>\n",
       "      <td>신호등</td>\n",
       "      <td>이무진</td>\n",
       "      <td>신호등</td>\n",
       "      <td>204995</td>\n",
       "    </tr>\n",
       "    <tr>\n",
       "      <th>2</th>\n",
       "      <td>Next Level</td>\n",
       "      <td>aespa</td>\n",
       "      <td>Next Level</td>\n",
       "      <td>201656</td>\n",
       "    </tr>\n",
       "    <tr>\n",
       "      <th>3</th>\n",
       "      <td>바라만 본다</td>\n",
       "      <td>MSG워너비(M.O.M)</td>\n",
       "      <td>MSG워너비 1집</td>\n",
       "      <td>153085</td>\n",
       "    </tr>\n",
       "    <tr>\n",
       "      <th>4</th>\n",
       "      <td>OHAYO MY NIGHT</td>\n",
       "      <td>디핵 (D-Hack)</td>\n",
       "      <td>OHAYO MY NIGHT</td>\n",
       "      <td>122215</td>\n",
       "    </tr>\n",
       "    <tr>\n",
       "      <th>...</th>\n",
       "      <td>...</td>\n",
       "      <td>...</td>\n",
       "      <td>...</td>\n",
       "      <td>...</td>\n",
       "    </tr>\n",
       "    <tr>\n",
       "      <th>95</th>\n",
       "      <td>Antifreeze</td>\n",
       "      <td>백예린 (Yerin Baek)</td>\n",
       "      <td>선물</td>\n",
       "      <td>18823</td>\n",
       "    </tr>\n",
       "    <tr>\n",
       "      <th>96</th>\n",
       "      <td>회상</td>\n",
       "      <td>정경호</td>\n",
       "      <td>슬기로운 의사생활 시즌2 OST Part 9</td>\n",
       "      <td>17994</td>\n",
       "    </tr>\n",
       "    <tr>\n",
       "      <th>97</th>\n",
       "      <td>Hey Mama (Feat. Nicki Minaj, Bebe Rexha &amp; Afro...</td>\n",
       "      <td>David Guetta</td>\n",
       "      <td>Listen</td>\n",
       "      <td>31781</td>\n",
       "    </tr>\n",
       "    <tr>\n",
       "      <th>98</th>\n",
       "      <td>목로주점</td>\n",
       "      <td>임영웅</td>\n",
       "      <td>사랑의 콜센타 PART50</td>\n",
       "      <td>19631</td>\n",
       "    </tr>\n",
       "    <tr>\n",
       "      <th>99</th>\n",
       "      <td>허리춤</td>\n",
       "      <td>오반 (OVAN)</td>\n",
       "      <td>허리춤</td>\n",
       "      <td>33482</td>\n",
       "    </tr>\n",
       "  </tbody>\n",
       "</table>\n",
       "<p>100 rows × 4 columns</p>\n",
       "</div>"
      ],
      "text/plain": [
       "                                                title            singer  \\\n",
       "0                                                STAY     The Kid LAROI   \n",
       "1                                                 신호등               이무진   \n",
       "2                                          Next Level             aespa   \n",
       "3                                              바라만 본다     MSG워너비(M.O.M)   \n",
       "4                                      OHAYO MY NIGHT       디핵 (D-Hack)   \n",
       "..                                                ...               ...   \n",
       "95                                         Antifreeze  백예린 (Yerin Baek)   \n",
       "96                                                 회상               정경호   \n",
       "97  Hey Mama (Feat. Nicki Minaj, Bebe Rexha & Afro...      David Guetta   \n",
       "98                                               목로주점               임영웅   \n",
       "99                                                허리춤         오반 (OVAN)   \n",
       "\n",
       "                       album    like  \n",
       "0                       Stay  131964  \n",
       "1                        신호등  204995  \n",
       "2                 Next Level  201656  \n",
       "3                  MSG워너비 1집  153085  \n",
       "4             OHAYO MY NIGHT  122215  \n",
       "..                       ...     ...  \n",
       "95                        선물   18823  \n",
       "96  슬기로운 의사생활 시즌2 OST Part 9   17994  \n",
       "97                    Listen   31781  \n",
       "98            사랑의 콜센타 PART50   19631  \n",
       "99                       허리춤   33482  \n",
       "\n",
       "[100 rows x 4 columns]"
      ]
     },
     "execution_count": 12,
     "metadata": {},
     "output_type": "execute_result"
    }
   ],
   "source": [
    "# 제목, 가수, 앨범, 좋아요 dataframe 생성\n",
    "df_data = {\n",
    "    'title' : title,\n",
    "    'singer' : singer,\n",
    "    'album' : album,\n",
    "    'like' : like\n",
    "}\n",
    "\n",
    "df = pd.DataFrame(data=df_data)\n",
    "df"
   ]
  },
  {
   "cell_type": "code",
   "execution_count": null,
   "metadata": {},
   "outputs": [],
   "source": []
  },
  {
   "cell_type": "code",
   "execution_count": null,
   "metadata": {},
   "outputs": [],
   "source": []
  }
 ],
 "metadata": {
  "kernelspec": {
   "display_name": "Python 3",
   "language": "python",
   "name": "python3"
  },
  "language_info": {
   "codemirror_mode": {
    "name": "ipython",
    "version": 3
   },
   "file_extension": ".py",
   "mimetype": "text/x-python",
   "name": "python",
   "nbconvert_exporter": "python",
   "pygments_lexer": "ipython3",
   "version": "3.8.5"
  }
 },
 "nbformat": 4,
 "nbformat_minor": 4
}
